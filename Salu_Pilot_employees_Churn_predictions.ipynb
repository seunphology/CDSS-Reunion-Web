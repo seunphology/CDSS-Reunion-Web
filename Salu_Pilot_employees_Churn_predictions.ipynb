{
  "nbformat": 4,
  "nbformat_minor": 0,
  "metadata": {
    "colab": {
      "provenance": [],
      "authorship_tag": "ABX9TyO41JCLl+PJ23XIz8ME9cFC",
      "include_colab_link": true
    },
    "kernelspec": {
      "name": "python3",
      "display_name": "Python 3"
    },
    "language_info": {
      "name": "python"
    }
  },
  "cells": [
    {
      "cell_type": "markdown",
      "metadata": {
        "id": "view-in-github",
        "colab_type": "text"
      },
      "source": [
        "<a href=\"https://colab.research.google.com/github/seunphology/CDSS-Reunion-Web/blob/master/Salu_Pilot_employees_Churn_predictions.ipynb\" target=\"_parent\"><img src=\"https://colab.research.google.com/assets/colab-badge.svg\" alt=\"Open In Colab\"/></a>"
      ]
    },
    {
      "cell_type": "code",
      "execution_count": null,
      "metadata": {
        "id": "mfuXTxEN00Ol"
      },
      "outputs": [],
      "source": []
    },
    {
      "cell_type": "markdown",
      "source": [
        "Connect to BigQuery\n"
      ],
      "metadata": {
        "id": "RWL80kc21YJ9"
      }
    },
    {
      "cell_type": "code",
      "source": [
        "#libraries that I need\n",
        "from google.cloud import bigquery\n",
        "from google.colab import auth\n",
        "\n",
        "#Authentication\n",
        "\n",
        "auth.authenticate_user()\n",
        "\n",
        "#Initialize the client from bigquery\n",
        "\n",
        "project_id = \"saluproject1\"\n",
        "client = bigquery.Client(project=project_id, location = \"US\")\n",
        "\n",
        "# get dataset by referencing it to the project ID\n",
        "\n",
        "dataset_ref = client.dataset('Employeedata', project=project_id)\n",
        "dataset = client.get_dataset(dataset_ref)\n",
        "table_ref = dataset.table('tbl_hr_data')\n",
        "table = client.get_table(table_ref)\n",
        "table.schema\n",
        "\n",
        "new_table_ref = dataset.table('tbl_hr_data')\n",
        "new_table = client.get_table(new_table_ref)\n",
        "new_table.schema\n",
        "\n",
        "\n",
        "\n",
        "\n"
      ],
      "metadata": {
        "colab": {
          "base_uri": "https://localhost:8080/"
        },
        "id": "4FlVvqtq1cVV",
        "outputId": "f6fd2c06-1563-4311-f9da-57e78c7d732c"
      },
      "execution_count": 5,
      "outputs": [
        {
          "output_type": "execute_result",
          "data": {
            "text/plain": [
              "[SchemaField('satisfaction_level', 'FLOAT', 'NULLABLE', None, None, (), None),\n",
              " SchemaField('last_evaluation', 'FLOAT', 'NULLABLE', None, None, (), None),\n",
              " SchemaField('number_project', 'INTEGER', 'NULLABLE', None, None, (), None),\n",
              " SchemaField('average_montly_hours', 'INTEGER', 'NULLABLE', None, None, (), None),\n",
              " SchemaField('time_spend_company', 'INTEGER', 'NULLABLE', None, None, (), None),\n",
              " SchemaField('Work_accident', 'INTEGER', 'NULLABLE', None, None, (), None),\n",
              " SchemaField('Quit_the_Company', 'INTEGER', 'NULLABLE', None, None, (), None),\n",
              " SchemaField('promotion_last_5years', 'INTEGER', 'NULLABLE', None, None, (), None),\n",
              " SchemaField('Departments', 'STRING', 'NULLABLE', None, None, (), None),\n",
              " SchemaField('salary', 'STRING', 'NULLABLE', None, None, (), None),\n",
              " SchemaField('employee_id', 'STRING', 'NULLABLE', None, None, (), None)]"
            ]
          },
          "metadata": {},
          "execution_count": 5
        }
      ]
    },
    {
      "cell_type": "markdown",
      "source": [],
      "metadata": {
        "id": "fotKpeJT2UqV"
      }
    }
  ]
}